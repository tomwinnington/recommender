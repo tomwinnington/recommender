{
 "cells": [
  {
   "cell_type": "code",
   "execution_count": 105,
   "metadata": {},
   "outputs": [],
   "source": [
    "import pandas as pd\n",
    "from sklearn.model_selection import train_test_split\n",
    "import random\n",
    "import matplotlib.pyplot as plt\n"
   ]
  },
  {
   "cell_type": "code",
   "execution_count": 113,
   "metadata": {},
   "outputs": [],
   "source": [
    "metadata = pd.read_csv('ml-data/movies_metadata.csv', low_memory=False)\n",
    "user_data = pd.read_csv('ml-data/ratings.csv')"
   ]
  },
  {
   "cell_type": "code",
   "execution_count": 8,
   "metadata": {},
   "outputs": [],
   "source": [
    "minimum_votes = metadata.vote_count.quantile(0.90)\n",
    "average_rating = metadata.vote_average.mean()\n",
    "\n",
    "def calculate_weighted_rating(row):\n",
    "    num_votes = row['vote_count']\n",
    "    rating  = row['vote_average']\n",
    "    \n",
    "    a = (num_votes/(num_votes+minimum_votes)) * rating\n",
    "    b = (minimum_votes/(num_votes+minimum_votes))* average_rating\n",
    "    return a+b\n",
    "\n",
    "metadata_2 = metadata.loc[metadata['vote_count'] > minimum_votes]\n",
    "metadata_2['weighted_rating'] = metadata_2.apply(calculate_weighted_rating, axis=1)"
   ]
  },
  {
   "cell_type": "code",
   "execution_count": 9,
   "metadata": {},
   "outputs": [],
   "source": [
    "top_movies = metadata_2[['title','vote_count', 'vote_average', 'weighted_rating']].sort_values('weighted_rating', ascending=False).head(20)\n",
    "top_movies.index.name  = 'id'"
   ]
  },
  {
   "cell_type": "code",
   "execution_count": 10,
   "metadata": {},
   "outputs": [],
   "source": [
    "top_movies.to_csv('ml-data/top_movies.csv')"
   ]
  },
  {
   "cell_type": "code",
   "execution_count": 13,
   "metadata": {},
   "outputs": [],
   "source": [
    "test,train = train_test_split(user_data)"
   ]
  },
  {
   "cell_type": "markdown",
   "metadata": {},
   "source": [
    "## Random Recommendation"
   ]
  },
  {
   "cell_type": "code",
   "execution_count": 84,
   "metadata": {},
   "outputs": [
    {
     "name": "stderr",
     "output_type": "stream",
     "text": [
      "100%|██████████| 50000/50000 [20:02<00:00, 41.57it/s]\n"
     ]
    }
   ],
   "source": [
    "from tqdm import tqdm\n",
    "\n",
    "# users = train.userId.unique()\n",
    "users = []\n",
    "for i in range(50000):\n",
    "    users.append(i)\n",
    "\n",
    "correct=0\n",
    "incorrect=0\n",
    "neutral = 0\n",
    "not_reviewed = 0\n",
    "movies = metadata['id'].unique()\n",
    "for user in tqdm(users):\n",
    "    user_ratings = test.loc[test['userId'] == user]\n",
    "    movies_reviewed = user_ratings['movieId'].unique()\n",
    "    for i in range(5):\n",
    "        recommendation = int(random.choice(movies))\n",
    "        if recommendation  in movies_reviewed:\n",
    "            rating = float(user_ratings['rating'].loc[user_ratings['movieId'] == recommendation])\n",
    "            if(rating >=3.5):\n",
    "                correct+=1\n",
    "            elif(rating< 2.5):\n",
    "                incorrect+=1\n",
    "            else:\n",
    "                neutral+=1\n",
    "        else:\n",
    "            not_reviewed+=1\n"
   ]
  },
  {
   "cell_type": "code",
   "execution_count": 110,
   "metadata": {},
   "outputs": [
    {
     "data": {
      "image/png": "[encoded data removed]",
      "text/plain": [
       "<Figure size 432x288 with 1 Axes>"
      ]
     },
     "metadata": {
      "needs_background": "light"
     },
     "output_type": "display_data"
    }
   ],
   "source": [
    "\n",
    "\n",
    "fig = plt.figure()\n",
    "ax = fig.add_axes([0,0,1,1])\n",
    "labels = ['Correct', 'Incorrect', 'Neutral']\n",
    "values = [503,115,229] #[correct, incorrect, neutral]\n",
    "ax.bar(labels,values)\n",
    "plt.show()"
   ]
  },
  {
   "cell_type": "markdown",
   "metadata": {},
   "source": [
    "## Most Popular"
   ]
  },
  {
   "cell_type": "code",
   "execution_count": 103,
   "metadata": {},
   "outputs": [
    {
     "name": "stderr",
     "output_type": "stream",
     "text": [
      "100%|██████████| 50000/50000 [20:50<00:00, 40.00it/s]\n"
     ]
    }
   ],
   "source": [
    "users = []\n",
    "for i in range(50000):\n",
    "    users.append(i)\n",
    "\n",
    "correct=0\n",
    "incorrect=0\n",
    "neutral = 0\n",
    "not_reviewed = 0\n",
    "\n",
    "for user in tqdm(users):\n",
    "    user_ratings = test.loc[test['userId'] == user]\n",
    "    movies_reviewed = user_ratings['movieId'].unique()\n",
    "    recommendations = top_movies.head(5).index.unique()\n",
    "    for recommendation in recommendations:\n",
    "        if recommendation  in movies_reviewed:\n",
    "            rating = float(user_ratings['rating'].loc[user_ratings['movieId'] == recommendation])\n",
    "            if(rating >=3.5):\n",
    "                correct+=1\n",
    "            elif(rating< 2.5):\n",
    "                incorrect+=1\n",
    "            else:\n",
    "                neutral+=1\n",
    "        else:\n",
    "            not_reviewed+=1"
   ]
  },
  {
   "cell_type": "code",
   "execution_count": 109,
   "metadata": {},
   "outputs": [
    {
     "data": {
      "image/png": "[encoded data removed]",
      "text/plain": [
       "<Figure size 432x288 with 1 Axes>"
      ]
     },
     "metadata": {
      "needs_background": "light"
     },
     "output_type": "display_data"
    }
   ],
   "source": [
    "fig = plt.figure()\n",
    "ax = fig.add_axes([0,0,1,1])\n",
    "labels = ['Correct', 'Incorrect', 'Neutral']\n",
    "values = [correct, incorrect, neutral]\n",
    "ax.bar(labels,values)\n",
    "plt.show()"
   ]
  },
  {
   "cell_type": "markdown",
   "metadata": {},
   "source": [
    "# Content-Based Recommender"
   ]
  },
  {
   "cell_type": "code",
   "execution_count": 111,
   "metadata": {},
   "outputs": [
    {
     "data": {
      "text/plain": [
       "0    Led by Woody, Andy's toys live happily in his ...\n",
       "1    When siblings Judy and Peter discover an encha...\n",
       "4    Just when George Banks has recovered from his ...\n",
       "5    Obsessive master thief, Neil McCauley leads a ...\n",
       "8    International action superstar Jean Claude Van...\n",
       "Name: overview, dtype: object"
      ]
     },
     "execution_count": 111,
     "metadata": {},
     "output_type": "execute_result"
    }
   ],
   "source": [
    "metadata['overview'].head()"
   ]
  },
  {
   "cell_type": "code",
   "execution_count": 114,
   "metadata": {},
   "outputs": [
    {
     "data": {
      "text/plain": [
       "(45466, 75827)"
      ]
     },
     "execution_count": 114,
     "metadata": {},
     "output_type": "execute_result"
    }
   ],
   "source": [
    "from sklearn.feature_extraction.text import TfidfVectorizer\n",
    "\n",
    "tfidf = TfidfVectorizer(stop_words='english')\n",
    "\n",
    "metadata['overview'] = metadata['overview'].fillna('')\n",
    "\n",
    "tfidf_matrix = tfidf.fit_transform(metadata['overview'])\n",
    "\n",
    "tfidf_matrix.shape"
   ]
  },
  {
   "cell_type": "code",
   "execution_count": 115,
   "metadata": {},
   "outputs": [
    {
     "data": {
      "text/plain": [
       "['avails',\n",
       " 'avaks',\n",
       " 'avalanche',\n",
       " 'avalanches',\n",
       " 'avallone',\n",
       " 'avalon',\n",
       " 'avant',\n",
       " 'avanthika',\n",
       " 'avanti',\n",
       " 'avaracious']"
      ]
     },
     "execution_count": 115,
     "metadata": {},
     "output_type": "execute_result"
    }
   ],
   "source": [
    "tfidf.get_feature_names()[5000:5010]"
   ]
  },
  {
   "cell_type": "code",
   "execution_count": 119,
   "metadata": {},
   "outputs": [
    {
     "name": "stdout",
     "output_type": "stream",
     "text": [
      "  (0, 17764)\t0.13483149538639247\n",
      "  (0, 4388)\t0.1474882034218405\n",
      "  (0, 38030)\t0.10142919482788751\n",
      "  (0, 21887)\t0.10438761058719498\n",
      "  (0, 19641)\t0.13281884272823927\n",
      "  (0, 48558)\t0.10339358185033234\n",
      "  (0, 59519)\t0.13008016104455086\n",
      "  (0, 12490)\t0.12544427954397822\n",
      "  (0, 51108)\t0.13434817283119177\n",
      "  (0, 29238)\t0.10093917370354445\n",
      "  (0, 50914)\t0.09190797940163035\n",
      "  (0, 39423)\t0.11907123344715953\n",
      "  (0, 1847)\t0.140911774178889\n",
      "  (0, 58571)\t0.1135591886873686\n",
      "  (0, 38693)\t0.20627924682810617\n",
      "  (0, 9874)\t0.5028038686135609\n",
      "  (0, 9087)\t0.10635375129287977\n",
      "  (0, 7491)\t0.12380553184830104\n",
      "  (0, 56872)\t0.111248510865236\n",
      "  (0, 28729)\t0.13311522181618415\n",
      "  (0, 39012)\t0.08718689178959059\n",
      "  (0, 67874)\t0.14878284660693247\n",
      "  (0, 3159)\t0.41178365711725945\n",
      "  (0, 73468)\t0.4809827114790237\n",
      "  (0, 38088)\t0.10739705953465473\n",
      "  :\t:\n",
      "  (45464, 26957)\t0.0735096263170162\n",
      "  (45464, 18919)\t0.09271509240923416\n",
      "  (45464, 18119)\t0.07466631763708825\n",
      "  (45464, 39012)\t0.0682961777913538\n",
      "  (45465, 16520)\t0.32373307886945113\n",
      "  (45465, 7157)\t0.2914932130700733\n",
      "  (45465, 43243)\t0.23656332414679263\n",
      "  (45465, 15834)\t0.24236871653353803\n",
      "  (45465, 69170)\t0.22812100877821387\n",
      "  (45465, 34173)\t0.2414656917302718\n",
      "  (45465, 4443)\t0.3118343036540516\n",
      "  (45465, 3912)\t0.22202762594955974\n",
      "  (45465, 22285)\t0.2869695086824784\n",
      "  (45465, 529)\t0.19370637113116582\n",
      "  (45465, 23012)\t0.18743882761025735\n",
      "  (45465, 740)\t0.19703211365489748\n",
      "  (45465, 55174)\t0.1770849348982256\n",
      "  (45465, 11313)\t0.1494901977317601\n",
      "  (45465, 25817)\t0.1746142345881065\n",
      "  (45465, 17272)\t0.20191670117693497\n",
      "  (45465, 17977)\t0.14001141857931765\n",
      "  (45465, 30389)\t0.23369802654538538\n",
      "  (45465, 42466)\t0.12685979671392433\n",
      "  (45465, 73408)\t0.13406907774931126\n",
      "  (45465, 74030)\t0.10752037301100266\n"
     ]
    }
   ],
   "source": [
    "print(tfidf_matrix)"
   ]
  },
  {
   "cell_type": "code",
   "execution_count": 118,
   "metadata": {},
   "outputs": [
    {
     "data": {
      "text/plain": [
       "(45466, 24)"
      ]
     },
     "execution_count": 118,
     "metadata": {},
     "output_type": "execute_result"
    }
   ],
   "source": [
    "metadata.shape"
   ]
  },
  {
   "cell_type": "code",
   "execution_count": null,
   "metadata": {},
   "outputs": [],
   "source": []
  }
 ],
 "metadata": {
  "kernelspec": {
   "display_name": "Python 3",
   "language": "python",
   "name": "python3"
  },
  "language_info": {
   "codemirror_mode": {
    "name": "ipython",
    "version": 3
   },
   "file_extension": ".py",
   "mimetype": "text/x-python",
   "name": "python",
   "nbconvert_exporter": "python",
   "pygments_lexer": "ipython3",
   "version": "3.8.4"
  }
 },
 "nbformat": 4,
 "nbformat_minor": 4
}
