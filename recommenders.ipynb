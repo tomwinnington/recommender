{
 "cells": [
  {
   "cell_type": "code",
   "execution_count": 120,
   "metadata": {},
   "outputs": [],
   "source": [
    "import pandas as pd\n",
    "from sklearn.model_selection import train_test_split\n",
    "import random\n",
    "import matplotlib.pyplot as plt\n",
    "from sklearn.metrics.pairwise import linear_kernel\n",
    "from sklearn.feature_extraction.text import TfidfVectorizer\n"
   ]
  },
  {
   "cell_type": "code",
   "execution_count": 181,
   "metadata": {},
   "outputs": [
    {
     "name": "stderr",
     "output_type": "stream",
     "text": [
      "/Users/franct04/IRFS/NLP_Hack/.env/lib/python3.8/site-packages/IPython/core/interactiveshell.py:3071: DtypeWarning: Columns (10) have mixed types.Specify dtype option on import or set low_memory=False.\n",
      "  has_raised = await self.run_ast_nodes(code_ast.body, cell_name,\n"
     ]
    }
   ],
   "source": [
    "metadata = pd.read_csv('ml-data/movies_metadata.csv')\n",
    "user_data = pd.read_csv('ml-data/ratings.csv')"
   ]
  },
  {
   "cell_type": "code",
   "execution_count": 8,
   "metadata": {},
   "outputs": [],
   "source": [
    "minimum_votes = metadata.vote_count.quantile(0.90)\n",
    "average_rating = metadata.vote_average.mean()\n",
    "\n",
    "def calculate_weighted_rating(row):\n",
    "    num_votes = row['vote_count']\n",
    "    rating  = row['vote_average']\n",
    "    \n",
    "    a = (num_votes/(num_votes+minimum_votes)) * rating\n",
    "    b = (minimum_votes/(num_votes+minimum_votes))* average_rating\n",
    "    return a+b\n",
    "\n",
    "metadata_2 = metadata.loc[metadata['vote_count'] > minimum_votes]\n",
    "metadata_2['weighted_rating'] = metadata_2.apply(calculate_weighted_rating, axis=1)"
   ]
  },
  {
   "cell_type": "code",
   "execution_count": 9,
   "metadata": {},
   "outputs": [],
   "source": [
    "top_movies = metadata_2[['title','vote_count', 'vote_average', 'weighted_rating']].sort_values('weighted_rating', ascending=False).head(20)\n",
    "top_movies.index.name  = 'id'"
   ]
  },
  {
   "cell_type": "code",
   "execution_count": 10,
   "metadata": {},
   "outputs": [],
   "source": [
    "top_movies.to_csv('ml-data/top_movies.csv')"
   ]
  },
  {
   "cell_type": "code",
   "execution_count": 13,
   "metadata": {},
   "outputs": [],
   "source": [
    "test,train = train_test_split(user_data)"
   ]
  },
  {
   "cell_type": "markdown",
   "metadata": {},
   "source": [
    "## Random Recommendation"
   ]
  },
  {
   "cell_type": "code",
   "execution_count": 84,
   "metadata": {},
   "outputs": [
    {
     "name": "stderr",
     "output_type": "stream",
     "text": [
      "100%|██████████| 50000/50000 [20:02<00:00, 41.57it/s]\n"
     ]
    }
   ],
   "source": [
    "from tqdm import tqdm\n",
    "\n",
    "# users = train.userId.unique()\n",
    "users = []\n",
    "for i in range(50000):\n",
    "    users.append(i)\n",
    "\n",
    "correct=0\n",
    "incorrect=0\n",
    "neutral = 0\n",
    "not_reviewed = 0\n",
    "movies = metadata['id'].unique()\n",
    "for user in tqdm(users):\n",
    "    user_ratings = test.loc[test['userId'] == user]\n",
    "    movies_reviewed = user_ratings['movieId'].unique()\n",
    "    for i in range(5):\n",
    "        recommendation = int(random.choice(movies))\n",
    "        if recommendation  in movies_reviewed:\n",
    "            rating = float(user_ratings['rating'].loc[user_ratings['movieId'] == recommendation])\n",
    "            if(rating >=3.5):\n",
    "                correct+=1\n",
    "            elif(rating< 2.5):\n",
    "                incorrect+=1\n",
    "            else:\n",
    "                neutral+=1\n",
    "        else:\n",
    "            not_reviewed+=1\n"
   ]
  },
  {
   "cell_type": "code",
   "execution_count": 110,
   "metadata": {},
   "outputs": [
    {
     "data": {
      "image/png": "[encoded data removed]",
      "text/plain": [
       "<Figure size 432x288 with 1 Axes>"
      ]
     },
     "metadata": {
      "needs_background": "light"
     },
     "output_type": "display_data"
    }
   ],
   "source": [
    "\n",
    "\n",
    "fig = plt.figure()\n",
    "ax = fig.add_axes([0,0,1,1])\n",
    "labels = ['Correct', 'Incorrect', 'Neutral']\n",
    "values = [503,115,229] #[correct, incorrect, neutral]\n",
    "ax.bar(labels,values)\n",
    "plt.show()"
   ]
  },
  {
   "cell_type": "markdown",
   "metadata": {},
   "source": [
    "## Most Popular"
   ]
  },
  {
   "cell_type": "code",
   "execution_count": 103,
   "metadata": {},
   "outputs": [
    {
     "name": "stderr",
     "output_type": "stream",
     "text": [
      "100%|██████████| 50000/50000 [20:50<00:00, 40.00it/s]\n"
     ]
    }
   ],
   "source": [
    "users = []\n",
    "for i in range(50000):\n",
    "    users.append(i)\n",
    "\n",
    "correct=0\n",
    "incorrect=0\n",
    "neutral = 0\n",
    "not_reviewed = 0\n",
    "\n",
    "for user in tqdm(users):\n",
    "    user_ratings = test.loc[test['userId'] == user]\n",
    "    movies_reviewed = user_ratings['movieId'].unique()\n",
    "    recommendations = top_movies.head(5).index.unique()\n",
    "    for recommendation in recommendations:\n",
    "        if recommendation  in movies_reviewed:\n",
    "            rating = float(user_ratings['rating'].loc[user_ratings['movieId'] == recommendation])\n",
    "            if(rating >=3.5):\n",
    "                correct+=1\n",
    "            elif(rating< 2.5):\n",
    "                incorrect+=1\n",
    "            else:\n",
    "                neutral+=1\n",
    "        else:\n",
    "            not_reviewed+=1"
   ]
  },
  {
   "cell_type": "code",
   "execution_count": 109,
   "metadata": {},
   "outputs": [
    {
     "data": {
      "image/png": "[encoded data removed]",
      "text/plain": [
       "<Figure size 432x288 with 1 Axes>"
      ]
     },
     "metadata": {
      "needs_background": "light"
     },
     "output_type": "display_data"
    }
   ],
   "source": [
    "fig = plt.figure()\n",
    "ax = fig.add_axes([0,0,1,1])\n",
    "labels = ['Correct', 'Incorrect', 'Neutral']\n",
    "values = [correct, incorrect, neutral]\n",
    "ax.bar(labels,values)\n",
    "plt.show()"
   ]
  },
  {
   "cell_type": "markdown",
   "metadata": {},
   "source": [
    "# Content-Based Recommender"
   ]
  },
  {
   "cell_type": "code",
   "execution_count": 111,
   "metadata": {},
   "outputs": [
    {
     "data": {
      "text/plain": [
       "0    Led by Woody, Andy's toys live happily in his ...\n",
       "1    When siblings Judy and Peter discover an encha...\n",
       "4    Just when George Banks has recovered from his ...\n",
       "5    Obsessive master thief, Neil McCauley leads a ...\n",
       "8    International action superstar Jean Claude Van...\n",
       "Name: overview, dtype: object"
      ]
     },
     "execution_count": 111,
     "metadata": {},
     "output_type": "execute_result"
    }
   ],
   "source": [
    "metadata['overview'].head()"
   ]
  },
  {
   "cell_type": "code",
   "execution_count": 114,
   "metadata": {},
   "outputs": [
    {
     "data": {
      "text/plain": [
       "(45466, 75827)"
      ]
     },
     "execution_count": 114,
     "metadata": {},
     "output_type": "execute_result"
    }
   ],
   "source": [
    "\n",
    "tfidf = TfidfVectorizer(stop_words='english')\n",
    "\n",
    "metadata['overview'] = metadata['overview'].fillna('')\n",
    "\n",
    "tfidf_matrix = tfidf.fit_transform(metadata['overview'])\n",
    "\n",
    "tfidf_matrix.shape"
   ]
  },
  {
   "cell_type": "code",
   "execution_count": 115,
   "metadata": {},
   "outputs": [
    {
     "data": {
      "text/plain": [
       "['avails',\n",
       " 'avaks',\n",
       " 'avalanche',\n",
       " 'avalanches',\n",
       " 'avallone',\n",
       " 'avalon',\n",
       " 'avant',\n",
       " 'avanthika',\n",
       " 'avanti',\n",
       " 'avaracious']"
      ]
     },
     "execution_count": 115,
     "metadata": {},
     "output_type": "execute_result"
    }
   ],
   "source": [
    "tfidf.get_feature_names()[5000:5010]"
   ]
  },
  {
   "cell_type": "code",
   "execution_count": 119,
   "metadata": {},
   "outputs": [
    {
     "name": "stdout",
     "output_type": "stream",
     "text": [
      "  (0, 17764)\t0.13483149538639247\n",
      "  (0, 4388)\t0.1474882034218405\n",
      "  (0, 38030)\t0.10142919482788751\n",
      "  (0, 21887)\t0.10438761058719498\n",
      "  (0, 19641)\t0.13281884272823927\n",
      "  (0, 48558)\t0.10339358185033234\n",
      "  (0, 59519)\t0.13008016104455086\n",
      "  (0, 12490)\t0.12544427954397822\n",
      "  (0, 51108)\t0.13434817283119177\n",
      "  (0, 29238)\t0.10093917370354445\n",
      "  (0, 50914)\t0.09190797940163035\n",
      "  (0, 39423)\t0.11907123344715953\n",
      "  (0, 1847)\t0.140911774178889\n",
      "  (0, 58571)\t0.1135591886873686\n",
      "  (0, 38693)\t0.20627924682810617\n",
      "  (0, 9874)\t0.5028038686135609\n",
      "  (0, 9087)\t0.10635375129287977\n",
      "  (0, 7491)\t0.12380553184830104\n",
      "  (0, 56872)\t0.111248510865236\n",
      "  (0, 28729)\t0.13311522181618415\n",
      "  (0, 39012)\t0.08718689178959059\n",
      "  (0, 67874)\t0.14878284660693247\n",
      "  (0, 3159)\t0.41178365711725945\n",
      "  (0, 73468)\t0.4809827114790237\n",
      "  (0, 38088)\t0.10739705953465473\n",
      "  :\t:\n",
      "  (45464, 26957)\t0.0735096263170162\n",
      "  (45464, 18919)\t0.09271509240923416\n",
      "  (45464, 18119)\t0.07466631763708825\n",
      "  (45464, 39012)\t0.0682961777913538\n",
      "  (45465, 16520)\t0.32373307886945113\n",
      "  (45465, 7157)\t0.2914932130700733\n",
      "  (45465, 43243)\t0.23656332414679263\n",
      "  (45465, 15834)\t0.24236871653353803\n",
      "  (45465, 69170)\t0.22812100877821387\n",
      "  (45465, 34173)\t0.2414656917302718\n",
      "  (45465, 4443)\t0.3118343036540516\n",
      "  (45465, 3912)\t0.22202762594955974\n",
      "  (45465, 22285)\t0.2869695086824784\n",
      "  (45465, 529)\t0.19370637113116582\n",
      "  (45465, 23012)\t0.18743882761025735\n",
      "  (45465, 740)\t0.19703211365489748\n",
      "  (45465, 55174)\t0.1770849348982256\n",
      "  (45465, 11313)\t0.1494901977317601\n",
      "  (45465, 25817)\t0.1746142345881065\n",
      "  (45465, 17272)\t0.20191670117693497\n",
      "  (45465, 17977)\t0.14001141857931765\n",
      "  (45465, 30389)\t0.23369802654538538\n",
      "  (45465, 42466)\t0.12685979671392433\n",
      "  (45465, 73408)\t0.13406907774931126\n",
      "  (45465, 74030)\t0.10752037301100266\n"
     ]
    }
   ],
   "source": [
    "print(tfidf_matrix)"
   ]
  },
  {
   "cell_type": "code",
   "execution_count": 118,
   "metadata": {},
   "outputs": [
    {
     "data": {
      "text/plain": [
       "(45466, 24)"
      ]
     },
     "execution_count": 118,
     "metadata": {},
     "output_type": "execute_result"
    }
   ],
   "source": [
    "metadata.shape"
   ]
  },
  {
   "cell_type": "code",
   "execution_count": 121,
   "metadata": {},
   "outputs": [],
   "source": [
    "cosine_sim = linear_kernel(tfidf_matrix, tfidf_matrix)"
   ]
  },
  {
   "cell_type": "code",
   "execution_count": 122,
   "metadata": {},
   "outputs": [
    {
     "data": {
      "text/plain": [
       "(45466, 45466)"
      ]
     },
     "execution_count": 122,
     "metadata": {},
     "output_type": "execute_result"
    }
   ],
   "source": [
    "cosine_sim.shape"
   ]
  },
  {
   "cell_type": "code",
   "execution_count": 123,
   "metadata": {},
   "outputs": [
    {
     "data": {
      "text/plain": [
       "array([0.01504121, 1.        , 0.04681953, ..., 0.        , 0.02198641,\n",
       "       0.00929411])"
      ]
     },
     "execution_count": 123,
     "metadata": {},
     "output_type": "execute_result"
    }
   ],
   "source": [
    "cosine_sim[1]"
   ]
  },
  {
   "cell_type": "code",
   "execution_count": 124,
   "metadata": {},
   "outputs": [],
   "source": [
    "indices = pd.Series(metadata.index, index=metadata['title']).drop_duplicates()"
   ]
  },
  {
   "cell_type": "code",
   "execution_count": 126,
   "metadata": {},
   "outputs": [
    {
     "data": {
      "text/plain": [
       "title\n",
       "Toy Story                      0\n",
       "Jumanji                        1\n",
       "Grumpier Old Men               2\n",
       "Waiting to Exhale              3\n",
       "Father of the Bride Part II    4\n",
       "dtype: int64"
      ]
     },
     "execution_count": 126,
     "metadata": {},
     "output_type": "execute_result"
    }
   ],
   "source": [
    "indices.head()"
   ]
  },
  {
   "cell_type": "code",
   "execution_count": 159,
   "metadata": {},
   "outputs": [],
   "source": [
    "def get_recommendations(title, cosine_sim=cosine_sim):\n",
    "    # Get the index of the movie that matches the title\n",
    "    idx = indices[title]\n",
    "\n",
    "    # Get the pairwsie similarity scores of all movies with that movie\n",
    "    sim_scores = list(enumerate(cosine_sim[idx]))\n",
    "\n",
    "    # Sort the movies based on the similarity scores\n",
    "    sim_scores = sorted(sim_scores, key=lambda x: x[1], reverse=True)\n",
    "\n",
    "    # Get the scores of the 10 most similar movies\n",
    "    sim_scores = sim_scores[1:10]\n",
    "\n",
    "    print(sim_scores)\n",
    "    # Get the movie indices\n",
    "    movie_indices = [i[0] for i in sim_scores]\n",
    "\n",
    "    # Return the top 10 most similar movies\n",
    "    return metadata['title'].iloc[movie_indices]\n",
    "\n",
    "\n",
    "def get_movie_id(name):\n",
    "    return metadata['id'].loc[metadata['title'] == name]\n",
    "\n",
    "def get_movie_name(ID):\n",
    "    return metadata['title'].loc[metadata['id'] == ID]"
   ]
  },
  {
   "cell_type": "code",
   "execution_count": 140,
   "metadata": {},
   "outputs": [
    {
     "name": "stdout",
     "output_type": "stream",
     "text": [
      "[(16947, 0.1608523950901097), (6548, 0.15978243595788563), (39141, 0.15892514976532443), (11327, 0.14927072164604832), (36701, 0.14321760531072364), (17446, 0.1374482688985937), (9391, 0.13716314836023943), (34185, 0.13586587493438596), (9225, 0.13570896649009745)]\n"
     ]
    },
    {
     "data": {
      "text/plain": [
       "16947                   They Made Me a Fugitive\n",
       "6548                                Civil Brand\n",
       "39141                         Seven Times Seven\n",
       "11327                               Brute Force\n",
       "36701                            Women's Prison\n",
       "17446                           Girls in Prison\n",
       "9391                                    In Hell\n",
       "34185                   Women's Prison Massacre\n",
       "9225     Female Prisoner Scorpion: Jailhouse 41\n",
       "Name: title, dtype: object"
      ]
     },
     "execution_count": 140,
     "metadata": {},
     "output_type": "execute_result"
    }
   ],
   "source": [
    "get_recommendations('The Shawshank Redemption')"
   ]
  },
  {
   "cell_type": "code",
   "execution_count": 167,
   "metadata": {},
   "outputs": [
    {
     "name": "stderr",
     "output_type": "stream",
     "text": [
      "100%|██████████| 5/5 [00:00<00:00, 23.04it/s]"
     ]
    },
    {
     "name": "stdout",
     "output_type": "stream",
     "text": [
      "69844\n",
      "Series([], Name: title, dtype: object)\n",
      "64\n",
      "5740    Talk to Her\n",
      "Name: title, dtype: object\n",
      "2875\n",
      "Series([], Name: title, dtype: object)\n"
     ]
    },
    {
     "name": "stderr",
     "output_type": "stream",
     "text": [
      "\n"
     ]
    }
   ],
   "source": []
  },
  {
   "cell_type": "code",
   "execution_count": 179,
   "metadata": {},
   "outputs": [
    {
     "data": {
      "text/html": [
       "<div>\n",
       "<style scoped>\n",
       "    .dataframe tbody tr th:only-of-type {\n",
       "        vertical-align: middle;\n",
       "    }\n",
       "\n",
       "    .dataframe tbody tr th {\n",
       "        vertical-align: top;\n",
       "    }\n",
       "\n",
       "    .dataframe thead th {\n",
       "        text-align: right;\n",
       "    }\n",
       "</style>\n",
       "<table border=\"1\" class=\"dataframe\">\n",
       "  <thead>\n",
       "    <tr style=\"text-align: right;\">\n",
       "      <th></th>\n",
       "      <th>adult</th>\n",
       "      <th>belongs_to_collection</th>\n",
       "      <th>budget</th>\n",
       "      <th>genres</th>\n",
       "      <th>homepage</th>\n",
       "      <th>id</th>\n",
       "      <th>imdb_id</th>\n",
       "      <th>original_language</th>\n",
       "      <th>original_title</th>\n",
       "      <th>overview</th>\n",
       "      <th>...</th>\n",
       "      <th>release_date</th>\n",
       "      <th>revenue</th>\n",
       "      <th>runtime</th>\n",
       "      <th>spoken_languages</th>\n",
       "      <th>status</th>\n",
       "      <th>tagline</th>\n",
       "      <th>title</th>\n",
       "      <th>video</th>\n",
       "      <th>vote_average</th>\n",
       "      <th>vote_count</th>\n",
       "    </tr>\n",
       "  </thead>\n",
       "  <tbody>\n",
       "  </tbody>\n",
       "</table>\n",
       "<p>0 rows × 24 columns</p>\n",
       "</div>"
      ],
      "text/plain": [
       "Empty DataFrame\n",
       "Columns: [adult, belongs_to_collection, budget, genres, homepage, id, imdb_id, original_language, original_title, overview, popularity, poster_path, production_companies, production_countries, release_date, revenue, runtime, spoken_languages, status, tagline, title, video, vote_average, vote_count]\n",
       "Index: []\n",
       "\n",
       "[0 rows x 24 columns]"
      ]
     },
     "execution_count": 179,
     "metadata": {},
     "output_type": "execute_result"
    }
   ],
   "source": [
    "metadata.loc[metadata['id'] == '69844']"
   ]
  },
  {
   "cell_type": "code",
   "execution_count": 178,
   "metadata": {},
   "outputs": [
    {
     "data": {
      "text/html": [
       "<div>\n",
       "<style scoped>\n",
       "    .dataframe tbody tr th:only-of-type {\n",
       "        vertical-align: middle;\n",
       "    }\n",
       "\n",
       "    .dataframe tbody tr th {\n",
       "        vertical-align: top;\n",
       "    }\n",
       "\n",
       "    .dataframe thead th {\n",
       "        text-align: right;\n",
       "    }\n",
       "</style>\n",
       "<table border=\"1\" class=\"dataframe\">\n",
       "  <thead>\n",
       "    <tr style=\"text-align: right;\">\n",
       "      <th></th>\n",
       "      <th>userId</th>\n",
       "      <th>movieId</th>\n",
       "      <th>rating</th>\n",
       "      <th>timestamp</th>\n",
       "    </tr>\n",
       "  </thead>\n",
       "  <tbody>\n",
       "    <tr>\n",
       "      <th>1</th>\n",
       "      <td>1</td>\n",
       "      <td>147</td>\n",
       "      <td>4.5</td>\n",
       "      <td>1425942435</td>\n",
       "    </tr>\n",
       "    <tr>\n",
       "      <th>17</th>\n",
       "      <td>1</td>\n",
       "      <td>69844</td>\n",
       "      <td>5.0</td>\n",
       "      <td>1425942139</td>\n",
       "    </tr>\n",
       "    <tr>\n",
       "      <th>16</th>\n",
       "      <td>1</td>\n",
       "      <td>68358</td>\n",
       "      <td>5.0</td>\n",
       "      <td>1425941464</td>\n",
       "    </tr>\n",
       "    <tr>\n",
       "      <th>6</th>\n",
       "      <td>1</td>\n",
       "      <td>2762</td>\n",
       "      <td>4.5</td>\n",
       "      <td>1425941300</td>\n",
       "    </tr>\n",
       "    <tr>\n",
       "      <th>22</th>\n",
       "      <td>1</td>\n",
       "      <td>92439</td>\n",
       "      <td>5.0</td>\n",
       "      <td>1425941424</td>\n",
       "    </tr>\n",
       "    <tr>\n",
       "      <th>15</th>\n",
       "      <td>1</td>\n",
       "      <td>59315</td>\n",
       "      <td>5.0</td>\n",
       "      <td>1425941502</td>\n",
       "    </tr>\n",
       "  </tbody>\n",
       "</table>\n",
       "</div>"
      ],
      "text/plain": [
       "    userId  movieId  rating   timestamp\n",
       "1        1      147     4.5  1425942435\n",
       "17       1    69844     5.0  1425942139\n",
       "16       1    68358     5.0  1425941464\n",
       "6        1     2762     4.5  1425941300\n",
       "22       1    92439     5.0  1425941424\n",
       "15       1    59315     5.0  1425941502"
      ]
     },
     "execution_count": 178,
     "metadata": {},
     "output_type": "execute_result"
    }
   ],
   "source": [
    "train.loc[train['userId'] == 1]"
   ]
  },
  {
   "cell_type": "markdown",
   "metadata": {},
   "source": [
    "# Genre based"
   ]
  },
  {
   "cell_type": "code",
   "execution_count": 287,
   "metadata": {},
   "outputs": [],
   "source": [
    "genres = pd.read_csv('ml-latest/movies.csv')"
   ]
  },
  {
   "cell_type": "code",
   "execution_count": 288,
   "metadata": {},
   "outputs": [],
   "source": [
    "genres['genres'] = genres['genres'].apply(lambda x : x.replace('|', \" \"))\n",
    "no_genres = list(genres['movieId'].loc[genres['genres'] == '(no genres listed)'])\n",
    "genres['genres'] = genres['genres'].fillna('')\n"
   ]
  },
  {
   "cell_type": "code",
   "execution_count": 269,
   "metadata": {},
   "outputs": [],
   "source": [
    "# genres['index'] = genres['movieId']\n",
    "# genres = genres.set_index('index')\n"
   ]
  },
  {
   "cell_type": "code",
   "execution_count": 289,
   "metadata": {},
   "outputs": [
    {
     "data": {
      "text/plain": [
       "(58098, 23)"
      ]
     },
     "execution_count": 289,
     "metadata": {},
     "output_type": "execute_result"
    }
   ],
   "source": [
    "tfidf = TfidfVectorizer(stop_words='english')\n",
    "\n",
    "tfidf_matrix = tfidf.fit_transform(genres['genres'])\n",
    "\n",
    "tfidf_matrix.shape"
   ]
  },
  {
   "cell_type": "code",
   "execution_count": 290,
   "metadata": {},
   "outputs": [
    {
     "data": {
      "text/plain": [
       "['action',\n",
       " 'adventure',\n",
       " 'animation',\n",
       " 'children',\n",
       " 'comedy',\n",
       " 'crime',\n",
       " 'documentary',\n",
       " 'drama',\n",
       " 'fantasy',\n",
       " 'fi',\n",
       " 'film',\n",
       " 'genres',\n",
       " 'horror',\n",
       " 'imax',\n",
       " 'listed',\n",
       " 'musical',\n",
       " 'mystery',\n",
       " 'noir',\n",
       " 'romance',\n",
       " 'sci',\n",
       " 'thriller',\n",
       " 'war',\n",
       " 'western']"
      ]
     },
     "execution_count": 290,
     "metadata": {},
     "output_type": "execute_result"
    }
   ],
   "source": [
    "tfidf.get_feature_names()[0:25]"
   ]
  },
  {
   "cell_type": "code",
   "execution_count": 291,
   "metadata": {},
   "outputs": [],
   "source": [
    "cosine_sim = linear_kernel(tfidf_matrix, tfidf_matrix)"
   ]
  },
  {
   "cell_type": "code",
   "execution_count": 292,
   "metadata": {},
   "outputs": [
    {
     "data": {
      "text/plain": [
       "(58098, 58098)"
      ]
     },
     "execution_count": 292,
     "metadata": {},
     "output_type": "execute_result"
    }
   ],
   "source": [
    "cosine_sim.shape"
   ]
  },
  {
   "cell_type": "code",
   "execution_count": 293,
   "metadata": {},
   "outputs": [
    {
     "data": {
      "text/plain": [
       "array([0.82451125, 1.        , 0.        , ..., 0.        , 0.25906638,\n",
       "       0.        ])"
      ]
     },
     "execution_count": 293,
     "metadata": {},
     "output_type": "execute_result"
    }
   ],
   "source": [
    "cosine_sim[1]"
   ]
  },
  {
   "cell_type": "code",
   "execution_count": 294,
   "metadata": {},
   "outputs": [],
   "source": [
    "indices = pd.Series(genres.index, index=genres['movieId']).drop_duplicates()"
   ]
  },
  {
   "cell_type": "code",
   "execution_count": 276,
   "metadata": {},
   "outputs": [
    {
     "data": {
      "text/plain": [
       "69"
      ]
     },
     "execution_count": 276,
     "metadata": {},
     "output_type": "execute_result"
    }
   ],
   "source": []
  },
  {
   "cell_type": "code",
   "execution_count": null,
   "metadata": {},
   "outputs": [],
   "source": []
  },
  {
   "cell_type": "code",
   "execution_count": 319,
   "metadata": {},
   "outputs": [],
   "source": [
    "def get_recommendations(movieID, cosine_sim=cosine_sim):\n",
    "    # Get the index of the movie that matches the title\n",
    "    idx = indices[movieID]\n",
    "\n",
    "    # Get the pairwsie similarity scores of all movies with that movie\n",
    "    sim_scores = list(enumerate(cosine_sim[idx]))\n",
    "\n",
    "    # Sort the movies based on the similarity scores\n",
    "    sim_scores = sorted(sim_scores, key=lambda x: x[1], reverse=True)\n",
    "\n",
    "    # Get the scores of the 10 most similar movies\n",
    "    sim_scores = sim_scores[1:15]\n",
    "\n",
    "    # Get the movie indices\n",
    "    movie_indices = [i[0] for i in sim_scores]\n",
    "\n",
    "    # Return the top 10 most similar movies\n",
    "    return genres['movieId'].iloc[movie_indices]\n",
    "\n",
    "\n",
    "def get_movie_id(name):\n",
    "    return genres['movieId'].loc[genres['title'] == name]\n",
    "\n",
    "def get_movie_name(ID):\n",
    "    return genres['title'].loc[genres['movieId'] == ID]"
   ]
  },
  {
   "cell_type": "code",
   "execution_count": 323,
   "metadata": {},
   "outputs": [
    {
     "data": {
      "text/plain": [
       "20052     98203\n",
       "17608     88125\n",
       "25012    115669\n",
       "20772    100882\n",
       "15388     78105\n",
       "7769       8368\n",
       "14999     74789\n",
       "20212     98809\n",
       "20788    101025\n",
       "22384    106489\n",
       "12002     54001\n",
       "32           33\n",
       "10620     40815\n",
       "16274     81834\n",
       "Name: movieId, dtype: int64"
      ]
     },
     "execution_count": 323,
     "metadata": {},
     "output_type": "execute_result"
    }
   ],
   "source": [
    "get_recommendations(69844)"
   ]
  },
  {
   "cell_type": "code",
   "execution_count": 359,
   "metadata": {},
   "outputs": [
    {
     "name": "stderr",
     "output_type": "stream",
     "text": [
      "100%|██████████| 50000/50000 [1:08:21<00:00, 12.19it/s]   \n"
     ]
    }
   ],
   "source": [
    "users = []\n",
    "for i in range(50000):\n",
    "    users.append(i)\n",
    "\n",
    "correct=0\n",
    "incorrect=0\n",
    "neutral = 0\n",
    "not_reviewed = 0\n",
    "\n",
    "for user in tqdm(users):\n",
    "    user_ratings = user_data.loc[user_data['userId'] == user]\n",
    "    top_rating=  user_ratings.rating.max()\n",
    "    top_two = []\n",
    "    if(top_rating> 2):\n",
    "        top_rated_id = user_ratings['movieId'].loc[user_ratings['rating']== top_rating].unique()[0]\n",
    "        reviewed = user_ratings['movieId'].unique()\n",
    "        recommended_movies = get_recommendations(top_rated_id).unique()\n",
    "        for movie in recommended_movies:\n",
    "            if movie in reviewed:\n",
    "                rating = float(user_ratings['rating'].loc[user_ratings['movieId'] == movie])\n",
    "                if(rating >=3.5):\n",
    "                    correct+=1\n",
    "                elif(rating< 2.5):\n",
    "                    incorrect+=1\n",
    "                else:\n",
    "                    neutral+=1\n",
    "            else:\n",
    "                not_reviewed+=1\n",
    "\n",
    "        "
   ]
  },
  {
   "cell_type": "code",
   "execution_count": 360,
   "metadata": {},
   "outputs": [
    {
     "data": {
      "image/png": "[encoded data removed]",
      "text/plain": [
       "<Figure size 432x288 with 1 Axes>"
      ]
     },
     "metadata": {
      "needs_background": "light"
     },
     "output_type": "display_data"
    }
   ],
   "source": [
    "fig = plt.figure()\n",
    "ax = fig.add_axes([0,0,1,1])\n",
    "labels = ['Correct', 'Incorrect', 'Neutral']\n",
    "values = [correct, incorrect, neutral]\n",
    "ax.bar(labels,values)\n",
    "plt.show()"
   ]
  },
  {
   "cell_type": "code",
   "execution_count": 343,
   "metadata": {},
   "outputs": [
    {
     "data": {
      "text/html": [
       "<div>\n",
       "<style scoped>\n",
       "    .dataframe tbody tr th:only-of-type {\n",
       "        vertical-align: middle;\n",
       "    }\n",
       "\n",
       "    .dataframe tbody tr th {\n",
       "        vertical-align: top;\n",
       "    }\n",
       "\n",
       "    .dataframe thead th {\n",
       "        text-align: right;\n",
       "    }\n",
       "</style>\n",
       "<table border=\"1\" class=\"dataframe\">\n",
       "  <thead>\n",
       "    <tr style=\"text-align: right;\">\n",
       "      <th></th>\n",
       "      <th>userId</th>\n",
       "      <th>movieId</th>\n",
       "      <th>rating</th>\n",
       "      <th>timestamp</th>\n",
       "    </tr>\n",
       "  </thead>\n",
       "  <tbody>\n",
       "    <tr>\n",
       "      <th>0</th>\n",
       "      <td>1</td>\n",
       "      <td>110</td>\n",
       "      <td>1.0</td>\n",
       "      <td>1425941529</td>\n",
       "    </tr>\n",
       "    <tr>\n",
       "      <th>1</th>\n",
       "      <td>1</td>\n",
       "      <td>147</td>\n",
       "      <td>4.5</td>\n",
       "      <td>1425942435</td>\n",
       "    </tr>\n",
       "    <tr>\n",
       "      <th>2</th>\n",
       "      <td>1</td>\n",
       "      <td>858</td>\n",
       "      <td>5.0</td>\n",
       "      <td>1425941523</td>\n",
       "    </tr>\n",
       "    <tr>\n",
       "      <th>3</th>\n",
       "      <td>1</td>\n",
       "      <td>1221</td>\n",
       "      <td>5.0</td>\n",
       "      <td>1425941546</td>\n",
       "    </tr>\n",
       "    <tr>\n",
       "      <th>4</th>\n",
       "      <td>1</td>\n",
       "      <td>1246</td>\n",
       "      <td>5.0</td>\n",
       "      <td>1425941556</td>\n",
       "    </tr>\n",
       "    <tr>\n",
       "      <th>...</th>\n",
       "      <td>...</td>\n",
       "      <td>...</td>\n",
       "      <td>...</td>\n",
       "      <td>...</td>\n",
       "    </tr>\n",
       "    <tr>\n",
       "      <th>26024284</th>\n",
       "      <td>270896</td>\n",
       "      <td>58559</td>\n",
       "      <td>5.0</td>\n",
       "      <td>1257031564</td>\n",
       "    </tr>\n",
       "    <tr>\n",
       "      <th>26024285</th>\n",
       "      <td>270896</td>\n",
       "      <td>60069</td>\n",
       "      <td>5.0</td>\n",
       "      <td>1257032032</td>\n",
       "    </tr>\n",
       "    <tr>\n",
       "      <th>26024286</th>\n",
       "      <td>270896</td>\n",
       "      <td>63082</td>\n",
       "      <td>4.5</td>\n",
       "      <td>1257031764</td>\n",
       "    </tr>\n",
       "    <tr>\n",
       "      <th>26024287</th>\n",
       "      <td>270896</td>\n",
       "      <td>64957</td>\n",
       "      <td>4.5</td>\n",
       "      <td>1257033990</td>\n",
       "    </tr>\n",
       "    <tr>\n",
       "      <th>26024288</th>\n",
       "      <td>270896</td>\n",
       "      <td>71878</td>\n",
       "      <td>2.0</td>\n",
       "      <td>1257031858</td>\n",
       "    </tr>\n",
       "  </tbody>\n",
       "</table>\n",
       "<p>26024289 rows × 4 columns</p>\n",
       "</div>"
      ],
      "text/plain": [
       "          userId  movieId  rating   timestamp\n",
       "0              1      110     1.0  1425941529\n",
       "1              1      147     4.5  1425942435\n",
       "2              1      858     5.0  1425941523\n",
       "3              1     1221     5.0  1425941546\n",
       "4              1     1246     5.0  1425941556\n",
       "...          ...      ...     ...         ...\n",
       "26024284  270896    58559     5.0  1257031564\n",
       "26024285  270896    60069     5.0  1257032032\n",
       "26024286  270896    63082     4.5  1257031764\n",
       "26024287  270896    64957     4.5  1257033990\n",
       "26024288  270896    71878     2.0  1257031858\n",
       "\n",
       "[26024289 rows x 4 columns]"
      ]
     },
     "execution_count": 343,
     "metadata": {},
     "output_type": "execute_result"
    }
   ],
   "source": [
    "user_data"
   ]
  },
  {
   "cell_type": "code",
   "execution_count": null,
   "metadata": {},
   "outputs": [],
   "source": []
  }
 ],
 "metadata": {
  "kernelspec": {
   "display_name": "Python 3",
   "language": "python",
   "name": "python3"
  },
  "language_info": {
   "codemirror_mode": {
    "name": "ipython",
    "version": 3
   },
   "file_extension": ".py",
   "mimetype": "text/x-python",
   "name": "python",
   "nbconvert_exporter": "python",
   "pygments_lexer": "ipython3",
   "version": "3.8.4"
  }
 },
 "nbformat": 4,
 "nbformat_minor": 4
}
